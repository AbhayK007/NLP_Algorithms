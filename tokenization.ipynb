{
  "nbformat": 4,
  "nbformat_minor": 0,
  "metadata": {
    "colab": {
      "name": "tokenization.ipynb",
      "provenance": [],
      "authorship_tag": "ABX9TyOcEgGXwhASMZvWJaVLXNxq",
      "include_colab_link": true
    },
    "kernelspec": {
      "name": "python3",
      "display_name": "Python 3"
    },
    "language_info": {
      "name": "python"
    }
  },
  "cells": [
    {
      "cell_type": "markdown",
      "metadata": {
        "id": "view-in-github",
        "colab_type": "text"
      },
      "source": [
        "<a href=\"https://colab.research.google.com/github/AbhayK007/NLP_Algorithms/blob/main/tokenization.ipynb\" target=\"_parent\"><img src=\"https://colab.research.google.com/assets/colab-badge.svg\" alt=\"Open In Colab\"/></a>"
      ]
    },
    {
      "cell_type": "code",
      "metadata": {
        "colab": {
          "base_uri": "https://localhost:8080/"
        },
        "id": "6IH4dRbfg_0x",
        "outputId": "0d7d208e-d0e9-491a-e24f-aac3f2834fa8"
      },
      "source": [
        "import nltk\n",
        "nltk.download('punkt')\n",
        "import numpy as np\n",
        "import pandas as pd\n"
      ],
      "execution_count": null,
      "outputs": [
        {
          "output_type": "stream",
          "text": [
            "[nltk_data] Downloading package punkt to /root/nltk_data...\n",
            "[nltk_data]   Package punkt is already up-to-date!\n"
          ],
          "name": "stdout"
        }
      ]
    },
    {
      "cell_type": "code",
      "metadata": {
        "id": "4ZR12ESNhs1F"
      },
      "source": [
        "para = 'Before writing an essay, you may wander how long is the essay of 1000 words in number of page? So, it depends on the type of document you are writing. The length of a 1000 word paper is different for blogs, magazine article and books. While writing for blogs, you use larger font and different sizes of fonts and spacing along with the images. A 1000 word essay for a magazine would take a lower space than an essay written for the purpose of blogs. Some essays are composed in one-note some are written in ms office. A standard page or office-word may contain 250 to a maximum of 1000 words depending upon the font type and size, margins and line spacing. In the proceeding sections, we have elaborated some ways to calculate how long would your 1000 word essay may take in ms office!'"
      ],
      "execution_count": null,
      "outputs": []
    },
    {
      "cell_type": "markdown",
      "metadata": {
        "id": "ho48HdwFh3Dp"
      },
      "source": [
        "separating sentences. creates list\n"
      ]
    },
    {
      "cell_type": "code",
      "metadata": {
        "colab": {
          "base_uri": "https://localhost:8080/"
        },
        "id": "Ac8ks-izh1KZ",
        "outputId": "f35e4bf8-2f67-4e95-8d3d-8eae04a08c0a"
      },
      "source": [
        "sentences = nltk.sent_tokenize(para)\n",
        "sentences"
      ],
      "execution_count": null,
      "outputs": [
        {
          "output_type": "execute_result",
          "data": {
            "text/plain": [
              "['Before writing an essay, you may wander how long is the essay of 1000 words in number of page?',\n",
              " 'So, it depends on the type of document you are writing.',\n",
              " 'The length of a 1000 word paper is different for blogs, magazine article and books.',\n",
              " 'While writing for blogs, you use larger font and different sizes of fonts and spacing along with the images.',\n",
              " 'A 1000 word essay for a magazine would take a lower space than an essay written for the purpose of blogs.',\n",
              " 'Some essays are composed in one-note some are written in ms office.',\n",
              " 'A standard page or office-word may contain 250 to a maximum of 1000 words depending upon the font type and size, margins and line spacing.',\n",
              " 'In the proceeding sections, we have elaborated some ways to calculate how long would your 1000 word essay may take in ms office!']"
            ]
          },
          "metadata": {
            "tags": []
          },
          "execution_count": 9
        }
      ]
    },
    {
      "cell_type": "markdown",
      "metadata": {
        "id": "REfuYgcGiXuM"
      },
      "source": [
        "separating each word and punctuation marks. creates list\n"
      ]
    },
    {
      "cell_type": "code",
      "metadata": {
        "colab": {
          "base_uri": "https://localhost:8080/"
        },
        "id": "NW4SFLJ3iDEE",
        "outputId": "baef4d11-9bc5-4326-b68f-0df7b333acd1"
      },
      "source": [
        "words= nltk.word_tokenize(para)\n",
        "len(words)"
      ],
      "execution_count": null,
      "outputs": [
        {
          "output_type": "execute_result",
          "data": {
            "text/plain": [
              "159"
            ]
          },
          "metadata": {
            "tags": []
          },
          "execution_count": 18
        }
      ]
    },
    {
      "cell_type": "code",
      "metadata": {
        "id": "q3oNr-4Sijac"
      },
      "source": [
        ""
      ],
      "execution_count": null,
      "outputs": []
    }
  ]
}