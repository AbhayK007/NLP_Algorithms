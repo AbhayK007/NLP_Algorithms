{
  "nbformat": 4,
  "nbformat_minor": 0,
  "metadata": {
    "colab": {
      "name": "lemmitization.ipynb",
      "provenance": [],
      "authorship_tag": "ABX9TyOiDuxwlE34Wn1X2DzcSNeX",
      "include_colab_link": true
    },
    "kernelspec": {
      "name": "python3",
      "display_name": "Python 3"
    },
    "language_info": {
      "name": "python"
    }
  },
  "cells": [
    {
      "cell_type": "markdown",
      "metadata": {
        "id": "view-in-github",
        "colab_type": "text"
      },
      "source": [
        "<a href=\"https://colab.research.google.com/github/AbhayK007/NLP_Algorithms/blob/main/lemmitization.ipynb\" target=\"_parent\"><img src=\"https://colab.research.google.com/assets/colab-badge.svg\" alt=\"Open In Colab\"/></a>"
      ]
    },
    {
      "cell_type": "code",
      "metadata": {
        "colab": {
          "base_uri": "https://localhost:8080/"
        },
        "id": "Z8JQiqO3rQiQ",
        "outputId": "22aca7ef-b689-4581-8954-a95c59f5b55a"
      },
      "source": [
        "import nltk\n",
        "nltk.download('punkt')\n",
        "nltk.download('stopwords')\n",
        "nltk.download('wordnet')\n",
        "from nltk.stem import WordNetLemmatizer\n",
        "from nltk.corpus import stopwords"
      ],
      "execution_count": null,
      "outputs": [
        {
          "output_type": "stream",
          "text": [
            "[nltk_data] Downloading package punkt to /root/nltk_data...\n",
            "[nltk_data]   Package punkt is already up-to-date!\n",
            "[nltk_data] Downloading package stopwords to /root/nltk_data...\n",
            "[nltk_data]   Package stopwords is already up-to-date!\n",
            "[nltk_data] Downloading package wordnet to /root/nltk_data...\n",
            "[nltk_data]   Unzipping corpora/wordnet.zip.\n"
          ],
          "name": "stdout"
        }
      ]
    },
    {
      "cell_type": "code",
      "metadata": {
        "id": "ccbeZjegrhM7"
      },
      "source": [
        "para=\"\"\"After a few years two events took place which caused Narendra considerable distress. One was the sudden death of his father in 1884. This left the family penniless, and Narendra had to bear the burden of supporting his mother, brothers and sisters. The second event was the illness of Sri Ramakrishna which was diagnosed to be cancer of the throat. In September 1885 Sri Ramakrishna was moved to a house at Shyampukur, and a few months later to a rented villa at Cossipore. In these two places the young disciples nursed the Master with devoted care. In spite of poverty at home and inability to find a job for himself, Narendra joined the group as its leader. Sri Ramakrishna instilled in these young men the spirit of renunciation and brotherly love for one another. One day he distributed ochre robes among them and sent them out to beg food. In this way he himself laid the foundation for a new monastic order. He gave specific instructions to Narendra about the formation of the new monastic Order. In the small hours of 16 August 1886 Sri Ramakrishna gave up his mortal body. After establishing the new monastic order, Vivekananda heard the inner call for a greater mission in his life. While most of the followers of Sri Ramakrishna thought of him in relation to their own personal lives, Vivekananda thought of the Master in relation to India and the rest of the world. As the prophet of the present age, what was Sri Ramakrishna’s message to the modern world and to India in particular? This question and the awareness of his own inherent powers urged Swamiji to go out alone into the wide world. So in the middle of 1890, after receiving the blessings of Sri Sarada Devi, the divine consort of Sri Ramakrishna, known to the world as Holy Mother, who was then staying in Kolkata, Swamiji left Baranagar Math and embarked on a long journey of exploration and discovery of India.\"\"\""
      ],
      "execution_count": null,
      "outputs": []
    },
    {
      "cell_type": "code",
      "metadata": {
        "id": "cWRnE2EesEAm"
      },
      "source": [
        "sentences= nltk.sent_tokenize(para)\n",
        "wordss= nltk.word_tokenize(para)"
      ],
      "execution_count": null,
      "outputs": []
    },
    {
      "cell_type": "code",
      "metadata": {
        "colab": {
          "base_uri": "https://localhost:8080/"
        },
        "id": "d_xzJ_dnx0tn",
        "outputId": "fa8cddf9-ff61-494a-bf48-ef794d2695bf"
      },
      "source": [
        "sentences"
      ],
      "execution_count": null,
      "outputs": [
        {
          "output_type": "execute_result",
          "data": {
            "text/plain": [
              "['After a few years two events took place which caused Narendra considerable distress.',\n",
              " 'One was the sudden death of his father in 1884.',\n",
              " 'This left the family penniless, and Narendra had to bear the burden of supporting his mother, brothers and sisters.',\n",
              " 'The second event was the illness of Sri Ramakrishna which was diagnosed to be cancer of the throat.',\n",
              " 'In September 1885 Sri Ramakrishna was moved to a house at Shyampukur, and a few months later to a rented villa at Cossipore.',\n",
              " 'In these two places the young disciples nursed the Master with devoted care.',\n",
              " 'In spite of poverty at home and inability to find a job for himself, Narendra joined the group as its leader.',\n",
              " 'Sri Ramakrishna instilled in these young men the spirit of renunciation and brotherly love for one another.',\n",
              " 'One day he distributed ochre robes among them and sent them out to beg food.',\n",
              " 'In this way he himself laid the foundation for a new monastic order.',\n",
              " 'He gave specific instructions to Narendra about the formation of the new monastic Order.',\n",
              " 'In the small hours of 16 August 1886 Sri Ramakrishna gave up his mortal body.',\n",
              " 'After establishing the new monastic order, Vivekananda heard the inner call for a greater mission in his life.',\n",
              " 'While most of the followers of Sri Ramakrishna thought of him in relation to their own personal lives, Vivekananda thought of the Master in relation to India and the rest of the world.',\n",
              " 'As the prophet of the present age, what was Sri Ramakrishna’s message to the modern world and to India in particular?',\n",
              " 'This question and the awareness of his own inherent powers urged Swamiji to go out alone into the wide world.',\n",
              " 'So in the middle of 1890, after receiving the blessings of Sri Sarada Devi, the divine consort of Sri Ramakrishna, known to the world as Holy Mother, who was then staying in Kolkata, Swamiji left Baranagar Math and embarked on a long journey of exploration and discovery of India.']"
            ]
          },
          "metadata": {
            "tags": []
          },
          "execution_count": 4
        }
      ]
    },
    {
      "cell_type": "markdown",
      "metadata": {
        "id": "ccApflQ_tc6L"
      },
      "source": [
        "stopwords removes words which dont have value on semtiments. eg. - of,our,you,from,the ..."
      ]
    },
    {
      "cell_type": "code",
      "metadata": {
        "id": "zkjW7WChsp8Z"
      },
      "source": [
        "#stopwords.words('english')"
      ],
      "execution_count": null,
      "outputs": []
    },
    {
      "cell_type": "code",
      "metadata": {
        "id": "DHPexyRivdZt"
      },
      "source": [
        "sentences2= sentences.copy()\n",
        "lemmatizer = WordNetLemmatizer()"
      ],
      "execution_count": null,
      "outputs": []
    },
    {
      "cell_type": "code",
      "metadata": {
        "id": "9W7PaesntnKg"
      },
      "source": [
        "for i in range(len(sentences2)):\n",
        "  words = nltk.word_tokenize(sentences2[i])\n",
        "  words= [lemmatizer.lemmatize(word) for word in words if word not in set(stopwords.words('english'))]\n",
        "  sentences2[i]=' '.join(words)"
      ],
      "execution_count": null,
      "outputs": []
    },
    {
      "cell_type": "code",
      "metadata": {
        "colab": {
          "base_uri": "https://localhost:8080/"
        },
        "id": "IuFrWiipy-9J",
        "outputId": "eb594c68-7b7f-402f-ec5a-3d2c20ca7e1c"
      },
      "source": [
        "sentences"
      ],
      "execution_count": null,
      "outputs": [
        {
          "output_type": "execute_result",
          "data": {
            "text/plain": [
              "['After a few years two events took place which caused Narendra considerable distress.',\n",
              " 'One was the sudden death of his father in 1884.',\n",
              " 'This left the family penniless, and Narendra had to bear the burden of supporting his mother, brothers and sisters.',\n",
              " 'The second event was the illness of Sri Ramakrishna which was diagnosed to be cancer of the throat.',\n",
              " 'In September 1885 Sri Ramakrishna was moved to a house at Shyampukur, and a few months later to a rented villa at Cossipore.',\n",
              " 'In these two places the young disciples nursed the Master with devoted care.',\n",
              " 'In spite of poverty at home and inability to find a job for himself, Narendra joined the group as its leader.',\n",
              " 'Sri Ramakrishna instilled in these young men the spirit of renunciation and brotherly love for one another.',\n",
              " 'One day he distributed ochre robes among them and sent them out to beg food.',\n",
              " 'In this way he himself laid the foundation for a new monastic order.',\n",
              " 'He gave specific instructions to Narendra about the formation of the new monastic Order.',\n",
              " 'In the small hours of 16 August 1886 Sri Ramakrishna gave up his mortal body.',\n",
              " 'After establishing the new monastic order, Vivekananda heard the inner call for a greater mission in his life.',\n",
              " 'While most of the followers of Sri Ramakrishna thought of him in relation to their own personal lives, Vivekananda thought of the Master in relation to India and the rest of the world.',\n",
              " 'As the prophet of the present age, what was Sri Ramakrishna’s message to the modern world and to India in particular?',\n",
              " 'This question and the awareness of his own inherent powers urged Swamiji to go out alone into the wide world.',\n",
              " 'So in the middle of 1890, after receiving the blessings of Sri Sarada Devi, the divine consort of Sri Ramakrishna, known to the world as Holy Mother, who was then staying in Kolkata, Swamiji left Baranagar Math and embarked on a long journey of exploration and discovery of India.']"
            ]
          },
          "metadata": {
            "tags": []
          },
          "execution_count": 8
        }
      ]
    },
    {
      "cell_type": "code",
      "metadata": {
        "colab": {
          "base_uri": "https://localhost:8080/"
        },
        "id": "G7sAWiPWxoAS",
        "outputId": "4c5152cc-0168-409f-d28c-a423db08910b"
      },
      "source": [
        "sentences2"
      ],
      "execution_count": null,
      "outputs": [
        {
          "output_type": "execute_result",
          "data": {
            "text/plain": [
              "['After year two event took place caused Narendra considerable distress .',\n",
              " 'One sudden death father 1884 .',\n",
              " 'This left family penniless , Narendra bear burden supporting mother , brother sister .',\n",
              " 'The second event illness Sri Ramakrishna diagnosed cancer throat .',\n",
              " 'In September 1885 Sri Ramakrishna moved house Shyampukur , month later rented villa Cossipore .',\n",
              " 'In two place young disciple nursed Master devoted care .',\n",
              " 'In spite poverty home inability find job , Narendra joined group leader .',\n",
              " 'Sri Ramakrishna instilled young men spirit renunciation brotherly love one another .',\n",
              " 'One day distributed ochre robe among sent beg food .',\n",
              " 'In way laid foundation new monastic order .',\n",
              " 'He gave specific instruction Narendra formation new monastic Order .',\n",
              " 'In small hour 16 August 1886 Sri Ramakrishna gave mortal body .',\n",
              " 'After establishing new monastic order , Vivekananda heard inner call greater mission life .',\n",
              " 'While follower Sri Ramakrishna thought relation personal life , Vivekananda thought Master relation India rest world .',\n",
              " 'As prophet present age , Sri Ramakrishna ’ message modern world India particular ?',\n",
              " 'This question awareness inherent power urged Swamiji go alone wide world .',\n",
              " 'So middle 1890 , receiving blessing Sri Sarada Devi , divine consort Sri Ramakrishna , known world Holy Mother , staying Kolkata , Swamiji left Baranagar Math embarked long journey exploration discovery India .']"
            ]
          },
          "metadata": {
            "tags": []
          },
          "execution_count": 9
        }
      ]
    },
    {
      "cell_type": "code",
      "metadata": {
        "id": "Epd_MOnhyCGD"
      },
      "source": [
        ""
      ],
      "execution_count": null,
      "outputs": []
    }
  ]
}