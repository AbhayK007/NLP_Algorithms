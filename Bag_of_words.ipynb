{
  "nbformat": 4,
  "nbformat_minor": 0,
  "metadata": {
    "colab": {
      "name": "Bag_of_words.ipynb",
      "provenance": [],
      "authorship_tag": "ABX9TyPzHybLBjy03GCyBz6uItrY",
      "include_colab_link": true
    },
    "kernelspec": {
      "name": "python3",
      "display_name": "Python 3"
    },
    "language_info": {
      "name": "python"
    }
  },
  "cells": [
    {
      "cell_type": "markdown",
      "metadata": {
        "id": "view-in-github",
        "colab_type": "text"
      },
      "source": [
        "<a href=\"https://colab.research.google.com/github/AbhayK007/NLP_Algorithms/blob/main/Bag_of_words.ipynb\" target=\"_parent\"><img src=\"https://colab.research.google.com/assets/colab-badge.svg\" alt=\"Open In Colab\"/></a>"
      ]
    },
    {
      "cell_type": "code",
      "metadata": {
        "colab": {
          "base_uri": "https://localhost:8080/"
        },
        "id": "YxUYczHF3094",
        "outputId": "6db4f14b-3a40-4c05-97c7-0eba44f548f9"
      },
      "source": [
        "import nltk\n",
        "import re\n",
        "nltk.download('punkt')\n",
        "nltk.download('stopwords')\n",
        "nltk.download('wordnet')\n",
        "from nltk.stem import WordNetLemmatizer\n",
        "from nltk.corpus import stopwords\n",
        "from nltk.stem import PorterStemmer "
      ],
      "execution_count": null,
      "outputs": [
        {
          "output_type": "stream",
          "text": [
            "[nltk_data] Downloading package punkt to /root/nltk_data...\n",
            "[nltk_data]   Package punkt is already up-to-date!\n",
            "[nltk_data] Downloading package stopwords to /root/nltk_data...\n",
            "[nltk_data]   Package stopwords is already up-to-date!\n",
            "[nltk_data] Downloading package wordnet to /root/nltk_data...\n",
            "[nltk_data]   Package wordnet is already up-to-date!\n"
          ],
          "name": "stdout"
        }
      ]
    },
    {
      "cell_type": "code",
      "metadata": {
        "id": "ccbeZjegrhM7"
      },
      "source": [
        "para=\"\"\"After a few years two events took place which caused Narendra considerable distress. One was the sudden death of his father in 1884. This left the family penniless, and Narendra had to bear the burden of supporting his mother, brothers and sisters. The second event was the illness of Sri Ramakrishna which was diagnosed to be cancer of the throat. In September 1885 Sri Ramakrishna was moved to a house at Shyampukur, and a few months later to a rented villa at Cossipore. In these two places the young disciples nursed the Master with devoted care. In spite of poverty at home and inability to find a job for himself, Narendra joined the group as its leader. Sri Ramakrishna instilled in these young men the spirit of renunciation and brotherly love for one another. One day he distributed ochre robes among them and sent them out to beg food. In this way he himself laid the foundation for a new monastic order. He gave specific instructions to Narendra about the formation of the new monastic Order. In the small hours of 16 August 1886 Sri Ramakrishna gave up his mortal body. After establishing the new monastic order, Vivekananda heard the inner call for a greater mission in his life. While most of the followers of Sri Ramakrishna thought of him in relation to their own personal lives, Vivekananda thought of the Master in relation to India and the rest of the world. As the prophet of the present age, what was Sri Ramakrishna’s message to the modern world and to India in particular? This question and the awareness of his own inherent powers urged Swamiji to go out alone into the wide world. So in the middle of 1890, after receiving the blessings of Sri Sarada Devi, the divine consort of Sri Ramakrishna, known to the world as Holy Mother, who was then staying in Kolkata, Swamiji left Baranagar Math and embarked on a long journey of exploration and discovery of India.\"\"\""
      ],
      "execution_count": null,
      "outputs": []
    },
    {
      "cell_type": "markdown",
      "metadata": {
        "id": "9MdIVyiC4Oaq"
      },
      "source": [
        "Cleaning of text = lowering letters\n"
      ]
    },
    {
      "cell_type": "code",
      "metadata": {
        "id": "EjLaSV8B4OAS"
      },
      "source": [
        "ps =PorterStemmer()\n",
        "wnl=WordNetLemmatizer()\n",
        "sentences= nltk.sent_tokenize(para)\n",
        "corpus=[]\n",
        "sentences2= sentences.copy()"
      ],
      "execution_count": null,
      "outputs": []
    },
    {
      "cell_type": "markdown",
      "metadata": {
        "id": "-RqFF1uk5CKP"
      },
      "source": [
        "*cleaning*\n",
        "re.sub > replaces every letter with given letter \n",
        "eg> re.sub('[^a-zA-z]',' ',sentences[i]) >>> will removing everything except a-z letters with space ' '"
      ]
    },
    {
      "cell_type": "markdown",
      "metadata": {
        "id": "nBZZfK5d6StN"
      },
      "source": [
        ".split >> breaks sentences into list of words"
      ]
    },
    {
      "cell_type": "code",
      "metadata": {
        "id": "7A2tBWEW4ARH"
      },
      "source": [
        "for i in range(len(sentences2)):\n",
        "  review=re.sub('[^a-zA-z]',' ',sentences[i])\n",
        "  review= review.lower()\n",
        "  review= review.split()\n",
        "  review= [wnl.lemmatize(word) for word in review if word not in set(stopwords.words('english'))]\n",
        "  review= ' '.join(review)\n",
        "  corpus.append(review)\n",
        "\n"
      ],
      "execution_count": null,
      "outputs": []
    },
    {
      "cell_type": "code",
      "metadata": {
        "colab": {
          "base_uri": "https://localhost:8080/"
        },
        "id": "SBN0gXNb65vD",
        "outputId": "e36ffe28-50fc-4d2f-c1d8-6518392fca77"
      },
      "source": [
        "corpus"
      ],
      "execution_count": null,
      "outputs": [
        {
          "output_type": "execute_result",
          "data": {
            "text/plain": [
              "['year two event took place caused narendra considerable distress',\n",
              " 'one sudden death father',\n",
              " 'left family penniless narendra bear burden supporting mother brother sister',\n",
              " 'second event illness sri ramakrishna diagnosed cancer throat',\n",
              " 'september sri ramakrishna moved house shyampukur month later rented villa cossipore',\n",
              " 'two place young disciple nursed master devoted care',\n",
              " 'spite poverty home inability find job narendra joined group leader',\n",
              " 'sri ramakrishna instilled young men spirit renunciation brotherly love one another',\n",
              " 'one day distributed ochre robe among sent beg food',\n",
              " 'way laid foundation new monastic order',\n",
              " 'gave specific instruction narendra formation new monastic order',\n",
              " 'small hour august sri ramakrishna gave mortal body',\n",
              " 'establishing new monastic order vivekananda heard inner call greater mission life',\n",
              " 'follower sri ramakrishna thought relation personal life vivekananda thought master relation india rest world',\n",
              " 'prophet present age sri ramakrishna message modern world india particular',\n",
              " 'question awareness inherent power urged swamiji go alone wide world',\n",
              " 'middle receiving blessing sri sarada devi divine consort sri ramakrishna known world holy mother staying kolkata swamiji left baranagar math embarked long journey exploration discovery india']"
            ]
          },
          "metadata": {
            "tags": []
          },
          "execution_count": 10
        }
      ]
    },
    {
      "cell_type": "markdown",
      "metadata": {
        "id": "ZJf70dgF7C3N"
      },
      "source": [
        "creating bag of words"
      ]
    },
    {
      "cell_type": "code",
      "metadata": {
        "id": "O45BKii-6-Vf"
      },
      "source": [
        "from sklearn.feature_extraction.text import CountVectorizer"
      ],
      "execution_count": null,
      "outputs": []
    },
    {
      "cell_type": "code",
      "metadata": {
        "id": "gyFDxfGT7fMo"
      },
      "source": [
        "cv= CountVectorizer()"
      ],
      "execution_count": null,
      "outputs": []
    },
    {
      "cell_type": "code",
      "metadata": {
        "id": "PxP9fxKN7iB5"
      },
      "source": [
        "X = cv.fit_transform(corpus).toarray()"
      ],
      "execution_count": null,
      "outputs": []
    },
    {
      "cell_type": "code",
      "metadata": {
        "colab": {
          "base_uri": "https://localhost:8080/"
        },
        "id": "12KkppuN7rMV",
        "outputId": "f8a99aac-fd1f-423b-817f-ac7d012e6324"
      },
      "source": [
        "X"
      ],
      "execution_count": null,
      "outputs": [
        {
          "output_type": "execute_result",
          "data": {
            "text/plain": [
              "array([[0, 0, 0, ..., 0, 1, 0],\n",
              "       [0, 0, 0, ..., 0, 0, 0],\n",
              "       [0, 0, 0, ..., 0, 0, 0],\n",
              "       ...,\n",
              "       [1, 0, 0, ..., 1, 0, 0],\n",
              "       [0, 1, 0, ..., 1, 0, 0],\n",
              "       [0, 0, 0, ..., 1, 0, 0]])"
            ]
          },
          "metadata": {
            "tags": []
          },
          "execution_count": 16
        }
      ]
    },
    {
      "cell_type": "code",
      "metadata": {
        "id": "V_4sGjHD75tM"
      },
      "source": [
        ""
      ],
      "execution_count": null,
      "outputs": []
    }
  ]
}