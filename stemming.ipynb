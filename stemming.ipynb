{
  "nbformat": 4,
  "nbformat_minor": 0,
  "metadata": {
    "colab": {
      "name": "stemming.ipynb",
      "provenance": [],
      "authorship_tag": "ABX9TyMFFK1GDVxxjzJLzdsPthnr",
      "include_colab_link": true
    },
    "kernelspec": {
      "name": "python3",
      "display_name": "Python 3"
    },
    "language_info": {
      "name": "python"
    }
  },
  "cells": [
    {
      "cell_type": "markdown",
      "metadata": {
        "id": "view-in-github",
        "colab_type": "text"
      },
      "source": [
        "<a href=\"https://colab.research.google.com/github/AbhayK007/NLP_Algorithms/blob/main/stemming.ipynb\" target=\"_parent\"><img src=\"https://colab.research.google.com/assets/colab-badge.svg\" alt=\"Open In Colab\"/></a>"
      ]
    },
    {
      "cell_type": "code",
      "metadata": {
        "colab": {
          "base_uri": "https://localhost:8080/"
        },
        "id": "Z8JQiqO3rQiQ",
        "outputId": "5cae1da9-c266-446b-905c-89c717303047"
      },
      "source": [
        "import nltk\n",
        "nltk.download('punkt')\n",
        "nltk.download('stopwords')\n",
        "from nltk.stem import PorterStemmer \n",
        "from nltk.corpus import stopwords"
      ],
      "execution_count": null,
      "outputs": [
        {
          "output_type": "stream",
          "text": [
            "[nltk_data] Downloading package punkt to /root/nltk_data...\n",
            "[nltk_data]   Package punkt is already up-to-date!\n",
            "[nltk_data] Downloading package stopwords to /root/nltk_data...\n",
            "[nltk_data]   Package stopwords is already up-to-date!\n"
          ],
          "name": "stdout"
        }
      ]
    },
    {
      "cell_type": "code",
      "metadata": {
        "id": "ccbeZjegrhM7"
      },
      "source": [
        "para=\"\"\"After a few years two events took place which caused Narendra considerable distress. One was the sudden death of his father in 1884. This left the family penniless, and Narendra had to bear the burden of supporting his mother, brothers and sisters. The second event was the illness of Sri Ramakrishna which was diagnosed to be cancer of the throat. In September 1885 Sri Ramakrishna was moved to a house at Shyampukur, and a few months later to a rented villa at Cossipore. In these two places the young disciples nursed the Master with devoted care. In spite of poverty at home and inability to find a job for himself, Narendra joined the group as its leader. Sri Ramakrishna instilled in these young men the spirit of renunciation and brotherly love for one another. One day he distributed ochre robes among them and sent them out to beg food. In this way he himself laid the foundation for a new monastic order. He gave specific instructions to Narendra about the formation of the new monastic Order. In the small hours of 16 August 1886 Sri Ramakrishna gave up his mortal body. After establishing the new monastic order, Vivekananda heard the inner call for a greater mission in his life. While most of the followers of Sri Ramakrishna thought of him in relation to their own personal lives, Vivekananda thought of the Master in relation to India and the rest of the world. As the prophet of the present age, what was Sri Ramakrishna’s message to the modern world and to India in particular? This question and the awareness of his own inherent powers urged Swamiji to go out alone into the wide world. So in the middle of 1890, after receiving the blessings of Sri Sarada Devi, the divine consort of Sri Ramakrishna, known to the world as Holy Mother, who was then staying in Kolkata, Swamiji left Baranagar Math and embarked on a long journey of exploration and discovery of India.\"\"\""
      ],
      "execution_count": null,
      "outputs": []
    },
    {
      "cell_type": "code",
      "metadata": {
        "id": "cWRnE2EesEAm"
      },
      "source": [
        "sentences= nltk.sent_tokenize(para)\n",
        "wordss= nltk.word_tokenize(para)"
      ],
      "execution_count": null,
      "outputs": []
    },
    {
      "cell_type": "code",
      "metadata": {
        "colab": {
          "base_uri": "https://localhost:8080/"
        },
        "id": "d_xzJ_dnx0tn",
        "outputId": "f632fa8e-e1a4-4232-d34c-245b5a5092c0"
      },
      "source": [
        "sentences"
      ],
      "execution_count": null,
      "outputs": [
        {
          "output_type": "execute_result",
          "data": {
            "text/plain": [
              "['After a few years two events took place which caused Narendra considerable distress.',\n",
              " 'One was the sudden death of his father in 1884.',\n",
              " 'This left the family penniless, and Narendra had to bear the burden of supporting his mother, brothers and sisters.',\n",
              " 'The second event was the illness of Sri Ramakrishna which was diagnosed to be cancer of the throat.',\n",
              " 'In September 1885 Sri Ramakrishna was moved to a house at Shyampukur, and a few months later to a rented villa at Cossipore.',\n",
              " 'In these two places the young disciples nursed the Master with devoted care.',\n",
              " 'In spite of poverty at home and inability to find a job for himself, Narendra joined the group as its leader.',\n",
              " 'Sri Ramakrishna instilled in these young men the spirit of renunciation and brotherly love for one another.',\n",
              " 'One day he distributed ochre robes among them and sent them out to beg food.',\n",
              " 'In this way he himself laid the foundation for a new monastic order.',\n",
              " 'He gave specific instructions to Narendra about the formation of the new monastic Order.',\n",
              " 'In the small hours of 16 August 1886 Sri Ramakrishna gave up his mortal body.',\n",
              " 'After establishing the new monastic order, Vivekananda heard the inner call for a greater mission in his life.',\n",
              " 'While most of the followers of Sri Ramakrishna thought of him in relation to their own personal lives, Vivekananda thought of the Master in relation to India and the rest of the world.',\n",
              " 'As the prophet of the present age, what was Sri Ramakrishna’s message to the modern world and to India in particular?',\n",
              " 'This question and the awareness of his own inherent powers urged Swamiji to go out alone into the wide world.',\n",
              " 'So in the middle of 1890, after receiving the blessings of Sri Sarada Devi, the divine consort of Sri Ramakrishna, known to the world as Holy Mother, who was then staying in Kolkata, Swamiji left Baranagar Math and embarked on a long journey of exploration and discovery of India.']"
            ]
          },
          "metadata": {
            "tags": []
          },
          "execution_count": 4
        }
      ]
    },
    {
      "cell_type": "markdown",
      "metadata": {
        "id": "ccApflQ_tc6L"
      },
      "source": [
        "stopwords removes words which dont have value on semtiments. eg. - of,our,you,from,the ..."
      ]
    },
    {
      "cell_type": "code",
      "metadata": {
        "id": "zkjW7WChsp8Z"
      },
      "source": [
        "#stopwords.words('english')"
      ],
      "execution_count": null,
      "outputs": []
    },
    {
      "cell_type": "code",
      "metadata": {
        "id": "DHPexyRivdZt"
      },
      "source": [
        "sentences2= sentences.copy()\n",
        "stemmer= PorterStemmer()"
      ],
      "execution_count": null,
      "outputs": []
    },
    {
      "cell_type": "code",
      "metadata": {
        "id": "9W7PaesntnKg"
      },
      "source": [
        "for i in range(len(sentences2)):\n",
        "  words = nltk.word_tokenize(sentences2[i])\n",
        "  words= [stemmer.stem(word) for word in words if word not in set(stopwords.words('english'))]\n",
        "  sentences2[i]=' '.join(words)"
      ],
      "execution_count": null,
      "outputs": []
    },
    {
      "cell_type": "code",
      "metadata": {
        "colab": {
          "base_uri": "https://localhost:8080/"
        },
        "id": "IuFrWiipy-9J",
        "outputId": "04b1a694-d80d-44dc-c879-49be96ae9269"
      },
      "source": [
        "sentences"
      ],
      "execution_count": null,
      "outputs": [
        {
          "output_type": "execute_result",
          "data": {
            "text/plain": [
              "['After a few years two events took place which caused Narendra considerable distress.',\n",
              " 'One was the sudden death of his father in 1884.',\n",
              " 'This left the family penniless, and Narendra had to bear the burden of supporting his mother, brothers and sisters.',\n",
              " 'The second event was the illness of Sri Ramakrishna which was diagnosed to be cancer of the throat.',\n",
              " 'In September 1885 Sri Ramakrishna was moved to a house at Shyampukur, and a few months later to a rented villa at Cossipore.',\n",
              " 'In these two places the young disciples nursed the Master with devoted care.',\n",
              " 'In spite of poverty at home and inability to find a job for himself, Narendra joined the group as its leader.',\n",
              " 'Sri Ramakrishna instilled in these young men the spirit of renunciation and brotherly love for one another.',\n",
              " 'One day he distributed ochre robes among them and sent them out to beg food.',\n",
              " 'In this way he himself laid the foundation for a new monastic order.',\n",
              " 'He gave specific instructions to Narendra about the formation of the new monastic Order.',\n",
              " 'In the small hours of 16 August 1886 Sri Ramakrishna gave up his mortal body.',\n",
              " 'After establishing the new monastic order, Vivekananda heard the inner call for a greater mission in his life.',\n",
              " 'While most of the followers of Sri Ramakrishna thought of him in relation to their own personal lives, Vivekananda thought of the Master in relation to India and the rest of the world.',\n",
              " 'As the prophet of the present age, what was Sri Ramakrishna’s message to the modern world and to India in particular?',\n",
              " 'This question and the awareness of his own inherent powers urged Swamiji to go out alone into the wide world.',\n",
              " 'So in the middle of 1890, after receiving the blessings of Sri Sarada Devi, the divine consort of Sri Ramakrishna, known to the world as Holy Mother, who was then staying in Kolkata, Swamiji left Baranagar Math and embarked on a long journey of exploration and discovery of India.']"
            ]
          },
          "metadata": {
            "tags": []
          },
          "execution_count": 8
        }
      ]
    },
    {
      "cell_type": "code",
      "metadata": {
        "colab": {
          "base_uri": "https://localhost:8080/"
        },
        "id": "G7sAWiPWxoAS",
        "outputId": "62c6f13d-eaba-4fe5-d099-7140b8e37f63"
      },
      "source": [
        "sentences2"
      ],
      "execution_count": null,
      "outputs": [
        {
          "output_type": "execute_result",
          "data": {
            "text/plain": [
              "['after year two event took place caus narendra consider distress .',\n",
              " 'one sudden death father 1884 .',\n",
              " 'thi left famili penniless , narendra bear burden support mother , brother sister .',\n",
              " 'the second event ill sri ramakrishna diagnos cancer throat .',\n",
              " 'In septemb 1885 sri ramakrishna move hous shyampukur , month later rent villa cossipor .',\n",
              " 'In two place young discipl nurs master devot care .',\n",
              " 'In spite poverti home inabl find job , narendra join group leader .',\n",
              " 'sri ramakrishna instil young men spirit renunci brotherli love one anoth .',\n",
              " 'one day distribut ochr robe among sent beg food .',\n",
              " 'In way laid foundat new monast order .',\n",
              " 'He gave specif instruct narendra format new monast order .',\n",
              " 'In small hour 16 august 1886 sri ramakrishna gave mortal bodi .',\n",
              " 'after establish new monast order , vivekananda heard inner call greater mission life .',\n",
              " 'while follow sri ramakrishna thought relat person live , vivekananda thought master relat india rest world .',\n",
              " 'As prophet present age , sri ramakrishna ’ messag modern world india particular ?',\n",
              " 'thi question awar inher power urg swamiji go alon wide world .',\n",
              " 'So middl 1890 , receiv bless sri sarada devi , divin consort sri ramakrishna , known world holi mother , stay kolkata , swamiji left baranagar math embark long journey explor discoveri india .']"
            ]
          },
          "metadata": {
            "tags": []
          },
          "execution_count": 9
        }
      ]
    },
    {
      "cell_type": "code",
      "metadata": {
        "id": "Epd_MOnhyCGD"
      },
      "source": [
        ""
      ],
      "execution_count": null,
      "outputs": []
    }
  ]
}